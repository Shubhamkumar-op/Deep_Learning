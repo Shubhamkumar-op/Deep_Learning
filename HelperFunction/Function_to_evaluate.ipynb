{
 "cells": [
  {
   "cell_type": "code",
   "execution_count": 1,
   "id": "ec0df35d",
   "metadata": {},
   "outputs": [],
   "source": [
    "from sklearn.metrics import accuracy_score,precision_recall_fscore_support\n",
    "\n",
    "def calculate_result(y_true,y_pred):\n",
    "    model_accuracy = accuracy_score(y_true,y_pred)*100\n",
    "    model_precision, model_recall, model_f1,_ = precision_recall_fscore_support(y_true,y_pred,average=\"weighted\")\n",
    "    model_result = {\"accuracy\":model_accuracy,\n",
    "                    \"precision\":model_precision,\n",
    "                    \"recall\":model_recall,\n",
    "                    \"f1\":model_f1}\n",
    "    return model_result"
   ]
  },
  {
   "cell_type": "code",
   "execution_count": null,
   "id": "6d310b4a",
   "metadata": {},
   "outputs": [],
   "source": []
  }
 ],
 "metadata": {
  "kernelspec": {
   "display_name": "Python 3 (ipykernel)",
   "language": "python",
   "name": "python3"
  },
  "language_info": {
   "codemirror_mode": {
    "name": "ipython",
    "version": 3
   },
   "file_extension": ".py",
   "mimetype": "text/x-python",
   "name": "python",
   "nbconvert_exporter": "python",
   "pygments_lexer": "ipython3",
   "version": "3.9.12"
  }
 },
 "nbformat": 4,
 "nbformat_minor": 5
}
