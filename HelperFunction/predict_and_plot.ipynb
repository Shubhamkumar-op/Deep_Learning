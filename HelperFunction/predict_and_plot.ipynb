{
 "cells": [
  {
   "cell_type": "code",
   "execution_count": 1,
   "id": "428fd256",
   "metadata": {},
   "outputs": [],
   "source": [
    "def load_and_pred_image(filename,img_shape=224):\n",
    "  img = tf.io.read_file(filename)\n",
    "  img = tf.image.decode_image(img)\n",
    "  img = tf.image.resize(img, size=[img_shape, img_shape])\n",
    "  img=img/255\n",
    "  return img"
   ]
  },
  {
   "cell_type": "code",
   "execution_count": null,
   "id": "8f68474e",
   "metadata": {},
   "outputs": [],
   "source": [
    "def pred_and_plot(model,filename,class_names=class_names):\n",
    "  img = load_and_pred_image(filename)\n",
    "  pred = model.predict(tf.expand_dims(img, axis=0))\n",
    "\n",
    "  if len(pred[0])>1:\n",
    "    pred_class = class_names[tf.argmax(pred[0])]\n",
    "\n",
    "  else:\n",
    "    pred_class = class_names[int(tf.round(pred[0]))]\n",
    "\n",
    "  plt.imshow(img)\n",
    "  plt.title(f\"prediction: {pred_class}\");\n",
    "  plt.axis(False)"
   ]
  },
  {
   "cell_type": "code",
   "execution_count": null,
   "id": "86fe1c39",
   "metadata": {},
   "outputs": [],
   "source": []
  }
 ],
 "metadata": {
  "kernelspec": {
   "display_name": "Python 3 (ipykernel)",
   "language": "python",
   "name": "python3"
  },
  "language_info": {
   "codemirror_mode": {
    "name": "ipython",
    "version": 3
   },
   "file_extension": ".py",
   "mimetype": "text/x-python",
   "name": "python",
   "nbconvert_exporter": "python",
   "pygments_lexer": "ipython3",
   "version": "3.9.12"
  }
 },
 "nbformat": 4,
 "nbformat_minor": 5
}
